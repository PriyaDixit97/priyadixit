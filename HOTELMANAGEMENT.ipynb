{
 "cells": [
  {
   "cell_type": "code",
   "execution_count": null,
   "id": "8fff33bb-339e-4b9e-ac71-fe61e0803823",
   "metadata": {},
   "outputs": [],
   "source": []
  },
  {
   "cell_type": "code",
   "execution_count": 26,
   "id": "2cc9aea8-2a6e-45c1-9250-bf5982099f6a",
   "metadata": {},
   "outputs": [
    {
     "name": "stdout",
     "output_type": "stream",
     "text": [
      "{'pizza': 40, 'pasta': 50, 'burger': 60, 'sandwitch': 70, 'coffee': 80}\n",
      "welcome to PYTHON RESTAURANT\n",
      "pizza : Rs40\n",
      "pasta : Rs50\n",
      "burger : Rs60\n",
      "sandwitch :Rs70\n",
      "coffee:Rs80\n",
      "\n"
     ]
    },
    {
     "name": "stdin",
     "output_type": "stream",
     "text": [
      "Enter the name of item you want to order=  burger\n"
     ]
    },
    {
     "name": "stdout",
     "output_type": "stream",
     "text": [
      "your item burger has been added to your order\n"
     ]
    },
    {
     "name": "stdin",
     "output_type": "stream",
     "text": [
      "Do you want to add another item ? (Yes/No) no\n"
     ]
    },
    {
     "name": "stdout",
     "output_type": "stream",
     "text": [
      "The total amount of items to pay is 60\n"
     ]
    }
   ],
   "source": [
    "#Define menu of restaurant.\n",
    "\n",
    "menu= {\n",
    "    'pizza':40,\n",
    "    'pasta':50,\n",
    "    'burger':60,\n",
    "    'sandwitch':70,\n",
    "    'coffee':80,\n",
    "    \n",
    "}\n",
    "print(menu)\n",
    "\n",
    "\n",
    "#Greet the customer\n",
    "print(\"welcome to PYTHON RESTAURANT\")\n",
    "print(\"pizza : Rs40\\npasta : Rs50\\nburger : Rs60\\nsandwitch :Rs70\\ncoffee:Rs80\\n\")\n",
    "\n",
    "\n",
    "order_total = 0\n",
    "\n",
    "\n",
    "item_1=input(\"Enter the name of item you want to order= \")\n",
    "if item_1 in menu:\n",
    "    order_total += menu[item_1]\n",
    "    print(f\"your item {item_1} has been added to your order\")\n",
    "    \n",
    "else:\n",
    "    print(f\"ordered item {item_1} is not available yet\")\n",
    "\n",
    "another_order = input(\"Do you want to add another item ? (Yes/No)\")\n",
    "if another_order ==\"Yes\":\n",
    "    item_2 = input(\"Enter name of second item= \")\n",
    "    if item_2 in menu:\n",
    "        order_total += menu[item_2]\n",
    "        print(f\"Item {item_2} has been added to order\" )\n",
    "    else:\n",
    "        print(f\"Ordered item {item_2} is not available!\")\n",
    "        \n",
    "print(f\"The total amount of items to pay is {order_total}\")\n",
    "\n",
    "\n"
   ]
  },
  {
   "cell_type": "code",
   "execution_count": null,
   "id": "8883c827-bc7f-44c7-a661-7654814a8265",
   "metadata": {},
   "outputs": [],
   "source": []
  },
  {
   "cell_type": "code",
   "execution_count": null,
   "id": "5ce19f7d-b66c-4dba-8724-7742de12cfae",
   "metadata": {},
   "outputs": [],
   "source": []
  }
 ],
 "metadata": {
  "kernelspec": {
   "display_name": "Python 3 (ipykernel)",
   "language": "python",
   "name": "python3"
  },
  "language_info": {
   "codemirror_mode": {
    "name": "ipython",
    "version": 3
   },
   "file_extension": ".py",
   "mimetype": "text/x-python",
   "name": "python",
   "nbconvert_exporter": "python",
   "pygments_lexer": "ipython3",
   "version": "3.11.7"
  }
 },
 "nbformat": 4,
 "nbformat_minor": 5
}
